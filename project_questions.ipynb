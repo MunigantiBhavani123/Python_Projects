{
  "nbformat": 4,
  "nbformat_minor": 0,
  "metadata": {
    "colab": {
      "provenance": []
    },
    "kernelspec": {
      "name": "python3",
      "display_name": "Python 3"
    },
    "language_info": {
      "name": "python"
    }
  },
  "cells": [
    {
      "cell_type": "markdown",
      "source": [
        "##1:Acronyms Using Python"
      ],
      "metadata": {
        "id": "zPu28hiVjDtc"
      }
    },
    {
      "cell_type": "markdown",
      "source": [
        "Acronyms create a short form of a word from a given sentence. We can do by splitting and indexing lets see the code below"
      ],
      "metadata": {
        "id": "OQbnb2lsjRA7"
      }
    },
    {
      "cell_type": "code",
      "source": [
        "user_input = str(input(\"enter any phrase: \")) \n",
        "text = user_input.split()  #here we are splitting user_input using split \n",
        "x = \" \"  #empty string to store\n",
        "for i in text:\n",
        "  x=x+str(i[0]).upper()\n",
        "print(x)\n"
      ],
      "metadata": {
        "colab": {
          "base_uri": "https://localhost:8080/"
        },
        "id": "4zBpdVfzjP9g",
        "outputId": "9a7df34d-bbe1-4631-d09a-cf078d7fecee"
      },
      "execution_count": null,
      "outputs": [
        {
          "output_type": "stream",
          "name": "stdout",
          "text": [
            "enter any phrase: machine learning\n",
            " ML\n"
          ]
        }
      ]
    },
    {
      "cell_type": "markdown",
      "source": [
        "##2:Email Slicer With Python"
      ],
      "metadata": {
        "id": "8R8QbCBQw05h"
      }
    },
    {
      "cell_type": "markdown",
      "source": [
        "###To create an email slicer with Python, our task is to write a program that can retrieve the username and the domain name of the email."
      ],
      "metadata": {
        "id": "OPSm47tqw-q0"
      }
    },
    {
      "cell_type": "code",
      "source": [
        "email = input(\"enter your email: \").strip()\n",
        "username = email[:email.index(\"@\")]\n",
        "domain_name = email[email.index(\"@\")+1:]\n",
        "format = (f\"your username is '{username}' and your domain is '{domain_name}'\")\n",
        "print(format)"
      ],
      "metadata": {
        "colab": {
          "base_uri": "https://localhost:8080/"
        },
        "id": "iuCKCnrExk90",
        "outputId": "c9b68487-c7ff-4c37-8937-24f9d37cecde"
      },
      "execution_count": 13,
      "outputs": [
        {
          "output_type": "stream",
          "name": "stdout",
          "text": [
            "enter your email: support@theprogram.com\n",
            "your username is 'support' and your domain is 'theprogram.com'\n"
          ]
        }
      ]
    },
    {
      "cell_type": "markdown",
      "source": [
        "##3:Python Program to Generate Password"
      ],
      "metadata": {
        "id": "lWaOyfep2qaF"
      }
    },
    {
      "cell_type": "markdown",
      "source": [
        "###To write a Python program to create a password, declare a string of numbers + uppercase + lowercase + special characters. Take a random sample of the string of a length given by the user:"
      ],
      "metadata": {
        "id": "R7ww_6p423s3"
      }
    },
    {
      "cell_type": "code",
      "source": [
        "import random\n",
        "passw_len = int(input(\"Enter length of password of how much you want: \"))\n",
        "s = \"abcdefghijklmnopqrstuvwxyzABCDEFGHIJKLMNOPQRSTUVWXYZ01234567890!@#$%&()*\"\n",
        "x = \"\".join(random.sample(s,passw_len))\n",
        "print(x)"
      ],
      "metadata": {
        "colab": {
          "base_uri": "https://localhost:8080/"
        },
        "id": "4LEah3_f3AZY",
        "outputId": "7f5ac2bc-a032-42ff-fd38-87263c629023"
      },
      "execution_count": 16,
      "outputs": [
        {
          "output_type": "stream",
          "name": "stdout",
          "text": [
            "Enter length of password of how much you want: 8\n",
            "WXjA4oOP\n"
          ]
        }
      ]
    },
    {
      "cell_type": "markdown",
      "source": [
        "###In the above code, I first imported the random module in Python, then I asked for user input for the length of the password. Then I stored the letters, numbers and special characters that I want to be considered while generating a password. Then I am doing a random sampling by joining the length of the password and the variable s, which will finally generate a random"
      ],
      "metadata": {
        "id": "wYywNrOU5Wv2"
      }
    }
  ]
}